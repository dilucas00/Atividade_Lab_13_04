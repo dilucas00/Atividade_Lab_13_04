{
 "cells": [
  {
   "cell_type": "code",
   "execution_count": 22,
   "metadata": {},
   "outputs": [
    {
     "name": "stdout",
     "output_type": "stream",
     "text": [
      " 2 \n",
      " 2 \n",
      " 2.0 \n",
      "\n"
     ]
    }
   ],
   "source": [
    "# 1) Faça um Programa que peça 2 números inteiros e um número real. Calcule e mostre:\n",
    "numero = int(input(\"Digite um número\"))\n",
    "numero2 = int(input(\"Digite outro número\"))\n",
    "numeroReal = float(input(\"Digite outro número\"))\n",
    "print(\"\", numero,\"\\n\",numero2,\"\\n\",numeroReal,\"\\n\")\n"
   ]
  },
  {
   "cell_type": "code",
   "execution_count": 3,
   "metadata": {},
   "outputs": [
    {
     "name": "stdout",
     "output_type": "stream",
     "text": [
      "5.0\n",
      "14.0\n"
     ]
    }
   ],
   "source": [
    "# O produto do dobro do primeiro com metade do segundo.\n",
    "print(numero * 2 + numero2/2)\n",
    "\n",
    "#A soma do triplo do primeiro com o terceiro. o terceiro elevado ao cubo.\n",
    "print(numero * 3 + numeroReal**3)\n"
   ]
  },
  {
   "cell_type": "code",
   "execution_count": 24,
   "metadata": {},
   "outputs": [
    {
     "name": "stdout",
     "output_type": "stream",
     "text": [
      "O número maior entre eles é o:  10\n"
     ]
    }
   ],
   "source": [
    "#2) Faça um Programa que peça dois números e imprima o maior deles.\n",
    "primeiroNum = int(input(\"Digite um numero\"))\n",
    "segundoNum = int(input(\"Digite outro numero\"))\n",
    "\n",
    "if primeiroNum > segundoNum:\n",
    "    print(\"O número maior entre eles é o: \",primeiroNum)\n",
    "else:\n",
    "    print(\"O número maior entre eles é o: \", segundoNum)"
   ]
  },
  {
   "cell_type": "code",
   "execution_count": 26,
   "metadata": {},
   "outputs": [
    {
     "name": "stdout",
     "output_type": "stream",
     "text": [
      "O valor  -5.0  é negativo\n"
     ]
    }
   ],
   "source": [
    "# 3) Faça um Programa que peça um valor e mostre na tela se o valor é positivo ou negativo.\n",
    "valor = float(input(\"Digite um numero para saber se ele é positivo ou negativo: \"))\n",
    "if (valor > 0 ):\n",
    "    print(\"o valor\", valor,\" é positivo\")\n",
    "else:\n",
    "    print(\"O valor \",valor,\" é negativo\")"
   ]
  },
  {
   "cell_type": "code",
   "execution_count": 30,
   "metadata": {},
   "outputs": [
    {
     "name": "stdout",
     "output_type": "stream",
     "text": [
      "Reprovado, media:   3.0\n"
     ]
    }
   ],
   "source": [
    "#4) Faça um programa para a leitura de duas notas parciais de um aluno.\n",
    "# O programa deve calcular a média alcançada por aluno e apresentar o resultado \"Aprovado\" ou \"Reprovado\". Considere que a escola adota média 7.00.\n",
    "\n",
    "nota1 = float(input(\"Digite a primeira nota do aluno(a) \"))\n",
    "nota2 = float(input(\"Digite a segunda nota do aluno(a)\"))\n",
    "media = (nota1 + nota2) / 2\n",
    "if (media >= 7):\n",
    "    print(\"Aprovado , media: \",media)\n",
    "else:\n",
    "    print(\"Reprovado, media:  \",media)\n",
    "    "
   ]
  },
  {
   "cell_type": "code",
   "execution_count": 43,
   "metadata": {},
   "outputs": [
    {
     "name": "stdout",
     "output_type": "stream",
     "text": [
      " 9.0 \n",
      " 85.0 \n",
      " 78.0 \n",
      "\n",
      "85.0 é o maior numero\n"
     ]
    }
   ],
   "source": [
    "#5)Faça um Programa que leia três números e mostre o maior deles.\n",
    "n1 = float(input(\"Digite um numero: \"))\n",
    "n2 = float(input(\"Digite outro numero: \"))\n",
    "n3 = float(input(\"Digite mais um numero: \"))\n",
    "print(\"\",n1,\"\\n\",n2,\"\\n\", n3,\"\\n\")\n",
    "\n",
    "if (n1 > n2) and (n1 > n3):\n",
    "    print(n1,\" é o maior numero\")\n",
    "elif (n2 > n1) and (n2 > n3):\n",
    "    print(n2, \"é o maior numero\")\n",
    "elif (n3 > n1) and (n3 > n2):\n",
    "    print(n3, \"é o maior numero\")\n",
    "else:\n",
    "    print(\"os numeros sao iguais\")"
   ]
  }
 ],
 "metadata": {
  "kernelspec": {
   "display_name": "Python 3",
   "language": "python",
   "name": "python3"
  },
  "language_info": {
   "codemirror_mode": {
    "name": "ipython",
    "version": 3
   },
   "file_extension": ".py",
   "mimetype": "text/x-python",
   "name": "python",
   "nbconvert_exporter": "python",
   "pygments_lexer": "ipython3",
   "version": "3.12.2"
  }
 },
 "nbformat": 4,
 "nbformat_minor": 2
}
